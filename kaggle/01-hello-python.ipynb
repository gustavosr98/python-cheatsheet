{
 "cells": [
  {
   "source": [
    "# Hello, Python!"
   ],
   "cell_type": "markdown",
   "metadata": {
    "papermill": {
     "duration": 0.02714,
     "end_time": "2020-10-01T01:21:17.305176",
     "exception": false,
     "start_time": "2020-10-01T01:21:17.278036",
     "status": "completed"
    },
    "tags": []
   }
  },
  {
   "source": [
    "print(\"Hello \" * 5)"
   ],
   "cell_type": "code",
   "metadata": {
    "_kg_hide-output": true,
    "execution": {
     "iopub.execute_input": "2020-10-01T01:21:17.375116Z",
     "iopub.status.busy": "2020-10-01T01:21:17.373743Z",
     "iopub.status.idle": "2020-10-01T01:21:17.381370Z",
     "shell.execute_reply": "2020-10-01T01:21:17.382122Z"
    },
    "papermill": {
     "duration": 0.045761,
     "end_time": "2020-10-01T01:21:17.382391",
     "exception": false,
     "start_time": "2020-10-01T01:21:17.336630",
     "status": "completed"
    },
    "tags": []
   },
   "execution_count": 29,
   "outputs": [
    {
     "output_type": "stream",
     "name": "stdout",
     "text": [
      "Hello Hello Hello Hello Hello \n"
     ]
    }
   ]
  },
  {
   "source": [
    "## Numbers and arithmetic in Python"
   ],
   "cell_type": "markdown",
   "metadata": {
    "papermill": {
     "duration": 0.030881,
     "end_time": "2020-10-01T01:21:18.158275",
     "exception": false,
     "start_time": "2020-10-01T01:21:18.127394",
     "status": "completed"
    },
    "tags": []
   }
  },
  {
   "cell_type": "code",
   "execution_count": 30,
   "metadata": {},
   "outputs": [
    {
     "output_type": "stream",
     "name": "stdout",
     "text": [
      "<class 'int'>\n<class 'float'>\n"
     ]
    }
   ],
   "source": [
    "print(type(5))\n",
    "print(type(5.5))"
   ]
  },
  {
   "source": [
    "| Operator     | Name           | Description                                            |\n",
    "|--------------|----------------|--------------------------------------------------------|\n",
    "| ``a + b``    | Addition       | Sum of ``a`` and ``b``                                 |\n",
    "| ``a - b``    | Subtraction    | Difference of ``a`` and ``b``                          |\n",
    "| ``a * b``    | Multiplication | Product of ``a`` and ``b``                             |\n",
    "| ``a / b``    | True division  | Quotient of ``a`` and ``b``                            |\n",
    "| ``a // b``   | Floor division | Quotient of ``a`` and ``b``, removing fractional parts |\n",
    "| ``a % b``    | Modulus        | Integer remainder after division of ``a`` by ``b``     |\n",
    "| ``a ** b``   | Exponentiation | ``a`` raised to the power of ``b``                     |\n",
    "| ``-a``       | Negation       | The negative of ``a``                                  |"
   ],
   "cell_type": "markdown",
   "metadata": {
    "papermill": {
     "duration": 0.042239,
     "end_time": "2020-10-01T01:21:18.666603",
     "exception": false,
     "start_time": "2020-10-01T01:21:18.624364",
     "status": "completed"
    },
    "tags": []
   }
  },
  {
   "cell_type": "code",
   "execution_count": 31,
   "metadata": {
    "collapsed": true,
    "execution": {
     "iopub.execute_input": "2020-10-01T01:21:18.737456Z",
     "iopub.status.busy": "2020-10-01T01:21:18.736303Z",
     "iopub.status.idle": "2020-10-01T01:21:18.750063Z",
     "shell.execute_reply": "2020-10-01T01:21:18.751132Z"
    },
    "papermill": {
     "duration": 0.053713,
     "end_time": "2020-10-01T01:21:18.751432",
     "exception": false,
     "start_time": "2020-10-01T01:21:18.697719",
     "status": "completed"
    },
    "tags": []
   },
   "outputs": [
    {
     "output_type": "stream",
     "name": "stdout",
     "text": [
      "2.5\n3.0\n"
     ]
    }
   ],
   "source": [
    "print(5 / 2)\n",
    "print(6 / 2)"
   ]
  },
  {
   "cell_type": "markdown",
   "metadata": {
    "papermill": {
     "duration": 0.044567,
     "end_time": "2020-10-01T01:21:18.836063",
     "exception": false,
     "start_time": "2020-10-01T01:21:18.791496",
     "status": "completed"
    },
    "tags": []
   },
   "source": [
    "It always gives us a `float`. \n",
    "\n",
    "The `//` operator gives us a result that's rounded down to the next integer."
   ]
  },
  {
   "cell_type": "code",
   "execution_count": 32,
   "metadata": {
    "collapsed": true,
    "execution": {
     "iopub.execute_input": "2020-10-01T01:21:18.943090Z",
     "iopub.status.busy": "2020-10-01T01:21:18.941584Z",
     "iopub.status.idle": "2020-10-01T01:21:18.947842Z",
     "shell.execute_reply": "2020-10-01T01:21:18.948840Z"
    },
    "papermill": {
     "duration": 0.06587,
     "end_time": "2020-10-01T01:21:18.949083",
     "exception": false,
     "start_time": "2020-10-01T01:21:18.883213",
     "status": "completed"
    },
    "tags": []
   },
   "outputs": [
    {
     "output_type": "stream",
     "name": "stdout",
     "text": [
      "2\n3\n"
     ]
    }
   ],
   "source": [
    "print(5 // 2)\n",
    "print(6 // 2)"
   ]
  },
  {
   "cell_type": "markdown",
   "metadata": {
    "papermill": {
     "duration": 0.037811,
     "end_time": "2020-10-01T01:21:19.024988",
     "exception": false,
     "start_time": "2020-10-01T01:21:18.987177",
     "status": "completed"
    },
    "tags": []
   },
   "source": [
    "Can you think of where this would be useful? You'll see an example soon in the coding challenges."
   ]
  },
  {
   "cell_type": "markdown",
   "metadata": {
    "papermill": {
     "duration": 0.03257,
     "end_time": "2020-10-01T01:21:19.091212",
     "exception": false,
     "start_time": "2020-10-01T01:21:19.058642",
     "status": "completed"
    },
    "tags": []
   },
   "source": [
    "### Order of operations\n",
    "\n",
    "The arithmetic we learned in primary school has conventions about the order in which operations are evaluated. Some remember these by a mnemonic such as **PEMDAS** - **P**arentheses, **E**xponents, **M**ultiplication/**D**ivision, **A**ddition/**S**ubtraction."
   ]
  },
  {
   "cell_type": "markdown",
   "metadata": {
    "papermill": {
     "duration": 0.036866,
     "end_time": "2020-10-01T01:21:19.631125",
     "exception": false,
     "start_time": "2020-10-01T01:21:19.594259",
     "status": "completed"
    },
    "tags": []
   },
   "source": [
    "### Builtin functions for working with numbers\n",
    "\n",
    "`min` and `max` return the minimum and maximum of their arguments, respectively..."
   ]
  },
  {
   "cell_type": "code",
   "execution_count": 33,
   "metadata": {
    "collapsed": true,
    "execution": {
     "iopub.execute_input": "2020-10-01T01:21:19.713179Z",
     "iopub.status.busy": "2020-10-01T01:21:19.712203Z",
     "iopub.status.idle": "2020-10-01T01:21:19.715657Z",
     "shell.execute_reply": "2020-10-01T01:21:19.716261Z"
    },
    "papermill": {
     "duration": 0.048643,
     "end_time": "2020-10-01T01:21:19.716420",
     "exception": false,
     "start_time": "2020-10-01T01:21:19.667777",
     "status": "completed"
    },
    "tags": []
   },
   "outputs": [
    {
     "output_type": "stream",
     "name": "stdout",
     "text": [
      "1\n3\n"
     ]
    }
   ],
   "source": [
    "print(min(1, 2, 3))\n",
    "print(max(1, 2, 3))"
   ]
  },
  {
   "cell_type": "markdown",
   "metadata": {
    "papermill": {
     "duration": 0.037784,
     "end_time": "2020-10-01T01:21:19.792122",
     "exception": false,
     "start_time": "2020-10-01T01:21:19.754338",
     "status": "completed"
    },
    "tags": []
   },
   "source": [
    "`abs` returns the absolute value of it argument:"
   ]
  },
  {
   "cell_type": "code",
   "execution_count": 34,
   "metadata": {
    "collapsed": true,
    "execution": {
     "iopub.execute_input": "2020-10-01T01:21:19.869845Z",
     "iopub.status.busy": "2020-10-01T01:21:19.868998Z",
     "iopub.status.idle": "2020-10-01T01:21:19.873486Z",
     "shell.execute_reply": "2020-10-01T01:21:19.872728Z"
    },
    "papermill": {
     "duration": 0.045481,
     "end_time": "2020-10-01T01:21:19.873649",
     "exception": false,
     "start_time": "2020-10-01T01:21:19.828168",
     "status": "completed"
    },
    "tags": []
   },
   "outputs": [
    {
     "output_type": "stream",
     "name": "stdout",
     "text": [
      "32\n32\n"
     ]
    }
   ],
   "source": [
    "print(abs(32))\n",
    "print(abs(-32))"
   ]
  },
  {
   "cell_type": "markdown",
   "metadata": {
    "papermill": {
     "duration": 0.03491,
     "end_time": "2020-10-01T01:21:19.943598",
     "exception": false,
     "start_time": "2020-10-01T01:21:19.908688",
     "status": "completed"
    },
    "tags": []
   },
   "source": [
    "In addition to being the names of Python's two main numerical types, `int` and `float` can also be called as functions which convert their arguments to the corresponding type:"
   ]
  },
  {
   "cell_type": "code",
   "execution_count": 35,
   "metadata": {
    "collapsed": true,
    "execution": {
     "iopub.execute_input": "2020-10-01T01:21:20.023826Z",
     "iopub.status.busy": "2020-10-01T01:21:20.022901Z",
     "iopub.status.idle": "2020-10-01T01:21:20.026352Z",
     "shell.execute_reply": "2020-10-01T01:21:20.027009Z"
    },
    "papermill": {
     "duration": 0.048063,
     "end_time": "2020-10-01T01:21:20.027200",
     "exception": false,
     "start_time": "2020-10-01T01:21:19.979137",
     "status": "completed"
    },
    "tags": []
   },
   "outputs": [
    {
     "output_type": "stream",
     "name": "stdout",
     "text": [
      "10.0\n3\n808\n"
     ]
    }
   ],
   "source": [
    "print(float(10))\n",
    "print(int(3.33))\n",
    "# They can even be called on strings!\n",
    "print(int('807') + 1)"
   ]
  }
 ],
 "metadata": {
  "anaconda-cloud": {},
  "celltoolbar": "Edit Metadata",
  "kernelspec": {
   "name": "python369jvsc74a57bd031f2aee4e71d21fbe5cf8b01ff0e069b9275f58929596ceb00d14d90e3e16cd6",
   "display_name": "Python 3.6.9 64-bit"
  },
  "language_info": {
   "codemirror_mode": {
    "name": "ipython",
    "version": 3
   },
   "file_extension": ".py",
   "mimetype": "text/x-python",
   "name": "python",
   "nbconvert_exporter": "python",
   "pygments_lexer": "ipython3",
   "version": "3.6.9"
  },
  "learntools_metadata": {
   "lesson_index": 0,
   "type": "tutorial"
  },
  "papermill": {
   "duration": 9.10109,
   "end_time": "2020-10-01T01:21:20.320010",
   "environment_variables": {},
   "exception": null,
   "input_path": "__notebook__.ipynb",
   "output_path": "__notebook__.ipynb",
   "parameters": {},
   "start_time": "2020-10-01T01:21:11.218920",
   "version": "2.1.0"
  },
  "metadata": {
   "interpreter": {
    "hash": "31f2aee4e71d21fbe5cf8b01ff0e069b9275f58929596ceb00d14d90e3e16cd6"
   }
  }
 },
 "nbformat": 4,
 "nbformat_minor": 2
}