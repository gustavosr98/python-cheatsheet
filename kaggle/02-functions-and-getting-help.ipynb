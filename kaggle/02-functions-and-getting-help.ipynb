{
 "cells": [
  {
   "cell_type": "markdown",
   "metadata": {
    "papermill": {
     "duration": 0.030698,
     "end_time": "2020-10-19T20:35:58.997222",
     "exception": false,
     "start_time": "2020-10-19T20:35:58.966524",
     "status": "completed"
    },
    "tags": []
   },
   "source": [
    "# Getting Help"
   ]
  },
  {
   "cell_type": "code",
   "execution_count": 1,
   "metadata": {
    "execution": {
     "iopub.execute_input": "2020-10-19T20:35:59.052605Z",
     "iopub.status.busy": "2020-10-19T20:35:59.051690Z",
     "iopub.status.idle": "2020-10-19T20:35:59.057306Z",
     "shell.execute_reply": "2020-10-19T20:35:59.057921Z"
    },
    "papermill": {
     "duration": 0.036501,
     "end_time": "2020-10-19T20:35:59.058109",
     "exception": false,
     "start_time": "2020-10-19T20:35:59.021608",
     "status": "completed"
    },
    "tags": []
   },
   "outputs": [
    {
     "output_type": "stream",
     "name": "stdout",
     "text": [
      "Help on built-in function round in module builtins:\n\nround(...)\n    round(number[, ndigits]) -> number\n    \n    Round a number to a given precision in decimal digits (default 0 digits).\n    This returns an int when called with one argument, otherwise the\n    same type as the number. ndigits may be negative.\n\n"
     ]
    }
   ],
   "source": [
    "help(round)"
   ]
  },
  {
   "cell_type": "code",
   "execution_count": 3,
   "metadata": {
    "_kg_hide-output": true,
    "collapsed": true,
    "execution": {
     "iopub.execute_input": "2020-10-19T20:35:59.242260Z",
     "iopub.status.busy": "2020-10-19T20:35:59.229894Z",
     "iopub.status.idle": "2020-10-19T20:35:59.247568Z",
     "shell.execute_reply": "2020-10-19T20:35:59.246960Z"
    },
    "papermill": {
     "duration": 0.056275,
     "end_time": "2020-10-19T20:35:59.247727",
     "exception": false,
     "start_time": "2020-10-19T20:35:59.191452",
     "status": "completed"
    },
    "tags": []
   },
   "outputs": [
    {
     "output_type": "stream",
     "name": "stdout",
     "text": [
      "Help on int object:\n\nclass int(object)\n |  int(x=0) -> integer\n |  int(x, base=10) -> integer\n |  \n |  Convert a number or string to an integer, or return 0 if no arguments\n |  are given.  If x is a number, return x.__int__().  For floating point\n |  numbers, this truncates towards zero.\n |  \n |  If x is not a number or if base is given, then x must be a string,\n |  bytes, or bytearray instance representing an integer literal in the\n |  given base.  The literal can be preceded by '+' or '-' and be surrounded\n |  by whitespace.  The base defaults to 10.  Valid bases are 0 and 2-36.\n |  Base 0 means to interpret the base from the string as an integer literal.\n |  >>> int('0b100', base=0)\n |  4\n |  \n |  Methods defined here:\n |  \n |  __abs__(self, /)\n |      abs(self)\n |  \n |  __add__(self, value, /)\n |      Return self+value.\n |  \n |  __and__(self, value, /)\n |      Return self&value.\n |  \n |  __bool__(self, /)\n |      self != 0\n |  \n |  __ceil__(...)\n |      Ceiling of an Integral returns itself.\n |  \n |  __divmod__(self, value, /)\n |      Return divmod(self, value).\n |  \n |  __eq__(self, value, /)\n |      Return self==value.\n |  \n |  __float__(self, /)\n |      float(self)\n |  \n |  __floor__(...)\n |      Flooring an Integral returns itself.\n |  \n |  __floordiv__(self, value, /)\n |      Return self//value.\n |  \n |  __format__(...)\n |      default object formatter\n |  \n |  __ge__(self, value, /)\n |      Return self>=value.\n |  \n |  __getattribute__(self, name, /)\n |      Return getattr(self, name).\n |  \n |  __getnewargs__(...)\n |  \n |  __gt__(self, value, /)\n |      Return self>value.\n |  \n |  __hash__(self, /)\n |      Return hash(self).\n |  \n |  __index__(self, /)\n |      Return self converted to an integer, if self is suitable for use as an index into a list.\n |  \n |  __int__(self, /)\n |      int(self)\n |  \n |  __invert__(self, /)\n |      ~self\n |  \n |  __le__(self, value, /)\n |      Return self<=value.\n |  \n |  __lshift__(self, value, /)\n |      Return self<<value.\n |  \n |  __lt__(self, value, /)\n |      Return self<value.\n |  \n |  __mod__(self, value, /)\n |      Return self%value.\n |  \n |  __mul__(self, value, /)\n |      Return self*value.\n |  \n |  __ne__(self, value, /)\n |      Return self!=value.\n |  \n |  __neg__(self, /)\n |      -self\n |  \n |  __new__(*args, **kwargs) from builtins.type\n |      Create and return a new object.  See help(type) for accurate signature.\n |  \n |  __or__(self, value, /)\n |      Return self|value.\n |  \n |  __pos__(self, /)\n |      +self\n |  \n |  __pow__(self, value, mod=None, /)\n |      Return pow(self, value, mod).\n |  \n |  __radd__(self, value, /)\n |      Return value+self.\n |  \n |  __rand__(self, value, /)\n |      Return value&self.\n |  \n |  __rdivmod__(self, value, /)\n |      Return divmod(value, self).\n |  \n |  __repr__(self, /)\n |      Return repr(self).\n |  \n |  __rfloordiv__(self, value, /)\n |      Return value//self.\n |  \n |  __rlshift__(self, value, /)\n |      Return value<<self.\n |  \n |  __rmod__(self, value, /)\n |      Return value%self.\n |  \n |  __rmul__(self, value, /)\n |      Return value*self.\n |  \n |  __ror__(self, value, /)\n |      Return value|self.\n |  \n |  __round__(...)\n |      Rounding an Integral returns itself.\n |      Rounding with an ndigits argument also returns an integer.\n |  \n |  __rpow__(self, value, mod=None, /)\n |      Return pow(value, self, mod).\n |  \n |  __rrshift__(self, value, /)\n |      Return value>>self.\n |  \n |  __rshift__(self, value, /)\n |      Return self>>value.\n |  \n |  __rsub__(self, value, /)\n |      Return value-self.\n |  \n |  __rtruediv__(self, value, /)\n |      Return value/self.\n |  \n |  __rxor__(self, value, /)\n |      Return value^self.\n |  \n |  __sizeof__(...)\n |      Returns size in memory, in bytes\n |  \n |  __str__(self, /)\n |      Return str(self).\n |  \n |  __sub__(self, value, /)\n |      Return self-value.\n |  \n |  __truediv__(self, value, /)\n |      Return self/value.\n |  \n |  __trunc__(...)\n |      Truncating an Integral returns itself.\n |  \n |  __xor__(self, value, /)\n |      Return self^value.\n |  \n |  bit_length(...)\n |      int.bit_length() -> int\n |      \n |      Number of bits necessary to represent self in binary.\n |      >>> bin(37)\n |      '0b100101'\n |      >>> (37).bit_length()\n |      6\n |  \n |  conjugate(...)\n |      Returns self, the complex conjugate of any int.\n |  \n |  from_bytes(...) from builtins.type\n |      int.from_bytes(bytes, byteorder, *, signed=False) -> int\n |      \n |      Return the integer represented by the given array of bytes.\n |      \n |      The bytes argument must be a bytes-like object (e.g. bytes or bytearray).\n |      \n |      The byteorder argument determines the byte order used to represent the\n |      integer.  If byteorder is 'big', the most significant byte is at the\n |      beginning of the byte array.  If byteorder is 'little', the most\n |      significant byte is at the end of the byte array.  To request the native\n |      byte order of the host system, use `sys.byteorder' as the byte order value.\n |      \n |      The signed keyword-only argument indicates whether two's complement is\n |      used to represent the integer.\n |  \n |  to_bytes(...)\n |      int.to_bytes(length, byteorder, *, signed=False) -> bytes\n |      \n |      Return an array of bytes representing an integer.\n |      \n |      The integer is represented using length bytes.  An OverflowError is\n |      raised if the integer is not representable with the given number of\n |      bytes.\n |      \n |      The byteorder argument determines the byte order used to represent the\n |      integer.  If byteorder is 'big', the most significant byte is at the\n |      beginning of the byte array.  If byteorder is 'little', the most\n |      significant byte is at the end of the byte array.  To request the native\n |      byte order of the host system, use `sys.byteorder' as the byte order value.\n |      \n |      The signed keyword-only argument determines whether two's complement is\n |      used to represent the integer.  If signed is False and a negative integer\n |      is given, an OverflowError is raised.\n |  \n |  ----------------------------------------------------------------------\n |  Data descriptors defined here:\n |  \n |  denominator\n |      the denominator of a rational number in lowest terms\n |  \n |  imag\n |      the imaginary part of a complex number\n |  \n |  numerator\n |      the numerator of a rational number in lowest terms\n |  \n |  real\n |      the real part of a complex number\n\n"
     ]
    }
   ],
   "source": [
    "help(5)"
   ]
  },
  {
   "cell_type": "code",
   "execution_count": 3,
   "metadata": {
    "collapsed": true,
    "execution": {
     "iopub.execute_input": "2020-10-19T20:35:59.355739Z",
     "iopub.status.busy": "2020-10-19T20:35:59.354772Z",
     "iopub.status.idle": "2020-10-19T20:35:59.358198Z",
     "shell.execute_reply": "2020-10-19T20:35:59.358800Z"
    },
    "papermill": {
     "duration": 0.034832,
     "end_time": "2020-10-19T20:35:59.358956",
     "exception": false,
     "start_time": "2020-10-19T20:35:59.324124",
     "status": "completed"
    },
    "tags": []
   },
   "outputs": [
    {
     "name": "stdout",
     "output_type": "stream",
     "text": [
      "Help on built-in function print in module builtins:\n",
      "\n",
      "print(...)\n",
      "    print(value, ..., sep=' ', end='\\n', file=sys.stdout, flush=False)\n",
      "    \n",
      "    Prints the values to a stream, or to sys.stdout by default.\n",
      "    Optional keyword arguments:\n",
      "    file:  a file-like object (stream); defaults to the current sys.stdout.\n",
      "    sep:   string inserted between values, default a space.\n",
      "    end:   string appended after the last value, default a newline.\n",
      "    flush: whether to forcibly flush the stream.\n",
      "\n"
     ]
    }
   ],
   "source": [
    "help(print)"
   ]
  },
  {
   "cell_type": "markdown",
   "metadata": {
    "papermill": {
     "duration": 0.025578,
     "end_time": "2020-10-19T20:35:59.462359",
     "exception": false,
     "start_time": "2020-10-19T20:35:59.436781",
     "status": "completed"
    },
    "tags": []
   },
   "source": [
    "## Defining functions\n",
    "### Docstrings"
   ]
  },
  {
   "cell_type": "code",
   "execution_count": 7,
   "metadata": {
    "collapsed": true,
    "execution": {
     "iopub.execute_input": "2020-10-19T20:35:59.869469Z",
     "iopub.status.busy": "2020-10-19T20:35:59.868725Z",
     "iopub.status.idle": "2020-10-19T20:35:59.871939Z",
     "shell.execute_reply": "2020-10-19T20:35:59.871121Z"
    },
    "papermill": {
     "duration": 0.037118,
     "end_time": "2020-10-19T20:35:59.872070",
     "exception": false,
     "start_time": "2020-10-19T20:35:59.834952",
     "status": "completed"
    },
    "tags": []
   },
   "outputs": [],
   "source": [
    "def least_difference(a, b, c):\n",
    "    \"\"\"Return the smallest difference between any two numbers\n",
    "    among a, b and c.\n",
    "    \n",
    "    >>> least_difference(1, 5, -5)\n",
    "    4\n",
    "    \"\"\"\n",
    "    diff1 = abs(a - b)\n",
    "    diff2 = abs(b - c)\n",
    "    diff3 = abs(a - c)\n",
    "    return min(diff1, diff2, diff3)"
   ]
  },
  {
   "cell_type": "code",
   "execution_count": 8,
   "metadata": {
    "collapsed": true,
    "execution": {
     "iopub.execute_input": "2020-10-19T20:35:59.987285Z",
     "iopub.status.busy": "2020-10-19T20:35:59.986215Z",
     "iopub.status.idle": "2020-10-19T20:35:59.989887Z",
     "shell.execute_reply": "2020-10-19T20:35:59.990467Z"
    },
    "papermill": {
     "duration": 0.037711,
     "end_time": "2020-10-19T20:35:59.990646",
     "exception": false,
     "start_time": "2020-10-19T20:35:59.952935",
     "status": "completed"
    },
    "tags": []
   },
   "outputs": [
    {
     "name": "stdout",
     "output_type": "stream",
     "text": [
      "Help on function least_difference in module __main__:\n",
      "\n",
      "least_difference(a, b, c)\n",
      "    Return the smallest difference between any two numbers\n",
      "    among a, b and c.\n",
      "    \n",
      "    >>> least_difference(1, 5, -5)\n",
      "    4\n",
      "\n"
     ]
    }
   ],
   "source": [
    "help(least_difference)"
   ]
  },
  {
   "cell_type": "code",
   "execution_count": 5,
   "metadata": {
    "collapsed": true,
    "execution": {
     "iopub.execute_input": "2020-10-19T20:35:59.635351Z",
     "iopub.status.busy": "2020-10-19T20:35:59.634344Z",
     "iopub.status.idle": "2020-10-19T20:35:59.637786Z",
     "shell.execute_reply": "2020-10-19T20:35:59.638347Z"
    },
    "papermill": {
     "duration": 0.036082,
     "end_time": "2020-10-19T20:35:59.638507",
     "exception": false,
     "start_time": "2020-10-19T20:35:59.602425",
     "status": "completed"
    },
    "tags": []
   },
   "outputs": [
    {
     "name": "stdout",
     "output_type": "stream",
     "text": [
      "9 0 1\n"
     ]
    }
   ],
   "source": [
    "print(\n",
    "    least_difference(1, 10, 100),\n",
    "    least_difference(1, 10, 10),\n",
    "    least_difference(5, 6, 7), # Python allows trailing commas in argument lists. How nice is that?\n",
    ")"
   ]
  },
  {
   "cell_type": "markdown",
   "metadata": {
    "papermill": {
     "duration": 0.028064,
     "end_time": "2020-10-19T20:36:00.408117",
     "exception": false,
     "start_time": "2020-10-19T20:36:00.380053",
     "status": "completed"
    },
    "tags": []
   },
   "source": [
    "## Default arguments\n",
    "\n",
    "When we called `help(print)`, we saw that the `print` function has several optional arguments. For example, we can specify a value for `sep` to put some special string in between our printed arguments:"
   ]
  },
  {
   "cell_type": "code",
   "execution_count": 11,
   "metadata": {
    "collapsed": true,
    "execution": {
     "iopub.execute_input": "2020-10-19T20:36:00.470657Z",
     "iopub.status.busy": "2020-10-19T20:36:00.469878Z",
     "iopub.status.idle": "2020-10-19T20:36:00.473552Z",
     "shell.execute_reply": "2020-10-19T20:36:00.472844Z"
    },
    "papermill": {
     "duration": 0.037203,
     "end_time": "2020-10-19T20:36:00.473738",
     "exception": false,
     "start_time": "2020-10-19T20:36:00.436535",
     "status": "completed"
    },
    "tags": []
   },
   "outputs": [
    {
     "name": "stdout",
     "output_type": "stream",
     "text": [
      "1 < 2 < 3\n"
     ]
    }
   ],
   "source": [
    "print(1, 2, 3, sep=' < ')"
   ]
  },
  {
   "cell_type": "markdown",
   "metadata": {
    "papermill": {
     "duration": 0.029048,
     "end_time": "2020-10-19T20:36:00.657081",
     "exception": false,
     "start_time": "2020-10-19T20:36:00.628033",
     "status": "completed"
    },
    "tags": []
   },
   "source": [
    "Adding optional arguments with default values to the functions we define turns out to be pretty easy:"
   ]
  },
  {
   "cell_type": "code",
   "execution_count": 4,
   "metadata": {
    "collapsed": true,
    "execution": {
     "iopub.execute_input": "2020-10-19T20:36:00.724100Z",
     "iopub.status.busy": "2020-10-19T20:36:00.723315Z",
     "iopub.status.idle": "2020-10-19T20:36:00.728004Z",
     "shell.execute_reply": "2020-10-19T20:36:00.727251Z"
    },
    "papermill": {
     "duration": 0.041238,
     "end_time": "2020-10-19T20:36:00.728131",
     "exception": false,
     "start_time": "2020-10-19T20:36:00.686893",
     "status": "completed"
    },
    "tags": []
   },
   "outputs": [
    {
     "output_type": "stream",
     "name": "stdout",
     "text": [
      "Hello, Person\nHello, Juan\n"
     ]
    }
   ],
   "source": [
    "def greet(who=\"Person\"):\n",
    "    print(\"Hello,\", who)\n",
    "    \n",
    "greet()\n",
    "greet(who=\"Juan\")"
   ]
  },
  {
   "cell_type": "markdown",
   "metadata": {
    "papermill": {
     "duration": 0.029553,
     "end_time": "2020-10-19T20:36:00.787603",
     "exception": false,
     "start_time": "2020-10-19T20:36:00.758050",
     "status": "completed"
    },
    "tags": []
   },
   "source": [
    "## Functions Applied to Functions\n",
    "\n",
    "Here's something that's powerful, though it can feel very abstract at first.  You can supply functions as arguments to other functions.  Some example may make this clearer:"
   ]
  },
  {
   "cell_type": "code",
   "execution_count": 14,
   "metadata": {
    "collapsed": true,
    "execution": {
     "iopub.execute_input": "2020-10-19T20:36:00.856037Z",
     "iopub.status.busy": "2020-10-19T20:36:00.854975Z",
     "iopub.status.idle": "2020-10-19T20:36:00.858703Z",
     "shell.execute_reply": "2020-10-19T20:36:00.859264Z"
    },
    "papermill": {
     "duration": 0.042076,
     "end_time": "2020-10-19T20:36:00.859428",
     "exception": false,
     "start_time": "2020-10-19T20:36:00.817352",
     "status": "completed"
    },
    "tags": []
   },
   "outputs": [
    {
     "name": "stdout",
     "output_type": "stream",
     "text": [
      "5\n",
      "25\n"
     ]
    }
   ],
   "source": [
    "def mult_by_five(x):\n",
    "    return 5 * x\n",
    "\n",
    "def call(fn, arg):\n",
    "    \"\"\"Call fn on arg\"\"\"\n",
    "    return fn(arg)\n",
    "\n",
    "def squared_call(fn, arg):\n",
    "    \"\"\"Call fn on the result of calling fn on arg\"\"\"\n",
    "    return fn(fn(arg))\n",
    "\n",
    "print(\n",
    "    call(mult_by_five, 1),\n",
    "    squared_call(mult_by_five, 1), \n",
    "    sep='\\n', # '\\n' is the newline character - it starts a new line\n",
    ")"
   ]
  },
  {
   "cell_type": "markdown",
   "metadata": {
    "papermill": {
     "duration": 0.030168,
     "end_time": "2020-10-19T20:36:00.920024",
     "exception": false,
     "start_time": "2020-10-19T20:36:00.889856",
     "status": "completed"
    },
    "tags": []
   },
   "source": [
    "Functions that operate on other functions are called \"Higher order functions.\" You probably won't write your own for a little while. But there are higher order functions built into Python that you might find useful to call. \n",
    "\n",
    "Here's an interesting example using the `max` function.\n",
    "\n",
    "By default, `max` returns the largest of its arguments. But if we pass in a function using the optional `key` argument, it returns the argument `x` that maximizes `key(x)` (aka the 'argmax')."
   ]
  },
  {
   "cell_type": "code",
   "execution_count": 15,
   "metadata": {
    "collapsed": true,
    "execution": {
     "iopub.execute_input": "2020-10-19T20:36:01.004608Z",
     "iopub.status.busy": "2020-10-19T20:36:01.003294Z",
     "iopub.status.idle": "2020-10-19T20:36:01.007736Z",
     "shell.execute_reply": "2020-10-19T20:36:01.008794Z"
    },
    "papermill": {
     "duration": 0.056579,
     "end_time": "2020-10-19T20:36:01.009052",
     "exception": false,
     "start_time": "2020-10-19T20:36:00.952473",
     "status": "completed"
    },
    "tags": []
   },
   "outputs": [
    {
     "name": "stdout",
     "output_type": "stream",
     "text": [
      "Which number is biggest?\n",
      "100\n",
      "Which number is the biggest modulo 5?\n",
      "14\n"
     ]
    }
   ],
   "source": [
    "def mod_5(x):\n",
    "    \"\"\"Return the remainder of x after dividing by 5\"\"\"\n",
    "    return x % 5\n",
    "\n",
    "print(\n",
    "    'Which number is biggest?',\n",
    "    max(100, 51, 14),\n",
    "    'Which number is the biggest modulo 5?',\n",
    "    max(100, 51, 14, key=mod_5),\n",
    "    sep='\\n',\n",
    ")"
   ]
  }
 ],
 "metadata": {
  "kernelspec": {
   "name": "python369jvsc74a57bd031f2aee4e71d21fbe5cf8b01ff0e069b9275f58929596ceb00d14d90e3e16cd6",
   "display_name": "Python 3.6.9 64-bit"
  },
  "language_info": {
   "codemirror_mode": {
    "name": "ipython",
    "version": 3
   },
   "file_extension": ".py",
   "mimetype": "text/x-python",
   "name": "python",
   "nbconvert_exporter": "python",
   "pygments_lexer": "ipython3",
   "version": "3.6.9"
  },
  "learntools_metadata": {
   "lesson_index": 1,
   "type": "tutorial"
  },
  "papermill": {
   "duration": 7.383262,
   "end_time": "2020-10-19T20:36:01.279343",
   "environment_variables": {},
   "exception": null,
   "input_path": "__notebook__.ipynb",
   "output_path": "__notebook__.ipynb",
   "parameters": {},
   "start_time": "2020-10-19T20:35:53.896081",
   "version": "2.1.0"
  },
  "metadata": {
   "interpreter": {
    "hash": "31f2aee4e71d21fbe5cf8b01ff0e069b9275f58929596ceb00d14d90e3e16cd6"
   }
  }
 },
 "nbformat": 4,
 "nbformat_minor": 2
}